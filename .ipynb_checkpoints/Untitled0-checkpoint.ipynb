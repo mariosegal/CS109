{
 "metadata": {
  "name": "",
  "signature": "sha256:bb63dc1643cb4ed00150b9b6d6fbfe58a6ccc80454cf7b96a9c30a469c7d4438"
 },
 "nbformat": 3,
 "nbformat_minor": 0,
 "worksheets": []
}